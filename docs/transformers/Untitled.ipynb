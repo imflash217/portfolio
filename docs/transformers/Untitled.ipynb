{
 "cells": [
  {
   "cell_type": "code",
   "execution_count": 1,
   "metadata": {},
   "outputs": [],
   "source": [
    "from विभाग import विभाग"
   ]
  },
  {
   "cell_type": "code",
   "execution_count": 2,
   "metadata": {},
   "outputs": [
    {
     "name": "stdout",
     "output_type": "stream",
     "text": [
      "-----------------------------------\n",
      "भाज्य - (भाजक x भाग) = शेष [?] भाजक\n",
      "-----------------------------------\n",
      "12 - (3 x 1) = 9 > 3\n",
      "12 - (3 x 2) = 6 > 3\n",
      "12 - (3 x 3) = 3 > 3\n",
      "12 - (3 x 4) = 0 < 3 .समाप्त\n",
      "-----------------------------------\n"
     ]
    },
    {
     "data": {
      "text/plain": [
       "{'भागफल': 4, 'शेषफल': 0}"
      ]
     },
     "execution_count": 2,
     "metadata": {},
     "output_type": "execute_result"
    }
   ],
   "source": [
    "विभाग(12, 3)"
   ]
  },
  {
   "cell_type": "code",
   "execution_count": 3,
   "metadata": {},
   "outputs": [
    {
     "name": "stdout",
     "output_type": "stream",
     "text": [
      "-----------------------------------\n",
      "भाज्य - (भाजक x भाग) = शेष [?] भाजक\n",
      "-----------------------------------\n"
     ]
    },
    {
     "ename": "ValueError",
     "evalue": "भाज्य < भाजक [ग़लत संख्याएँ दी गयीं. कृपया सही संख्या अंकित करें.]",
     "output_type": "error",
     "traceback": [
      "\u001b[0;31m---------------------------------------------------------------------------\u001b[0m",
      "\u001b[0;31mValueError\u001b[0m                                Traceback (most recent call last)",
      "\u001b[0;32m<ipython-input-3-8912aca34830>\u001b[0m in \u001b[0;36m<module>\u001b[0;34m\u001b[0m\n\u001b[0;32m----> 1\u001b[0;31m \u001b[0mव\u001b[0m\u001b[0;31mि\u001b[0m\u001b[0mभ\u001b[0m\u001b[0;31mा\u001b[0m\u001b[0mग\u001b[0m\u001b[0;34m(\u001b[0m\u001b[0;36m1312\u001b[0m\u001b[0;34m,\u001b[0m \u001b[0;36m3321\u001b[0m\u001b[0;34m)\u001b[0m\u001b[0;34m\u001b[0m\u001b[0;34m\u001b[0m\u001b[0m\n\u001b[0m",
      "\u001b[0;32m~/Desktop/flashAI/shiksha/विभाग.py\u001b[0m in \u001b[0;36mविभाग\u001b[0;34m(भाज्य, भाजक)\u001b[0m\n\u001b[1;32m     14\u001b[0m     \u001b[0;32mif\u001b[0m \u001b[0mभ\u001b[0m\u001b[0;31mा\u001b[0m\u001b[0mज\u001b[0m\u001b[0;31m्\u001b[0m\u001b[0mय\u001b[0m \u001b[0;34m<\u001b[0m \u001b[0mभ\u001b[0m\u001b[0;31mा\u001b[0m\u001b[0mजक\u001b[0m\u001b[0;34m:\u001b[0m\u001b[0;34m\u001b[0m\u001b[0;34m\u001b[0m\u001b[0m\n\u001b[1;32m     15\u001b[0m         \u001b[0;31m# print\u001b[0m\u001b[0;34m\u001b[0m\u001b[0;34m\u001b[0m\u001b[0;34m\u001b[0m\u001b[0m\n\u001b[0;32m---> 16\u001b[0;31m         \u001b[0;32mraise\u001b[0m \u001b[0mValueError\u001b[0m\u001b[0;34m(\u001b[0m\u001b[0;34mf\"भाज्य < भाजक [ग़लत संख्याएँ दी गयीं. कृपया सही संख्या अंकित करें.]\"\u001b[0m\u001b[0;34m)\u001b[0m\u001b[0;34m\u001b[0m\u001b[0;34m\u001b[0m\u001b[0m\n\u001b[0m\u001b[1;32m     17\u001b[0m \u001b[0;34m\u001b[0m\u001b[0m\n\u001b[1;32m     18\u001b[0m     \u001b[0;32mwhile\u001b[0m \u001b[0;32mTrue\u001b[0m\u001b[0;34m:\u001b[0m\u001b[0;34m\u001b[0m\u001b[0;34m\u001b[0m\u001b[0m\n",
      "\u001b[0;31mValueError\u001b[0m: भाज्य < भाजक [ग़लत संख्याएँ दी गयीं. कृपया सही संख्या अंकित करें.]"
     ]
    }
   ],
   "source": [
    "विभाग(1312, 3321)"
   ]
  },
  {
   "cell_type": "code",
   "execution_count": 4,
   "metadata": {},
   "outputs": [
    {
     "name": "stdout",
     "output_type": "stream",
     "text": [
      "-----------------------------------\n",
      "भाज्य - (भाजक x भाग) = शेष [?] भाजक\n",
      "-----------------------------------\n",
      "13212 - (3321 x 1) = 9891 > 3321\n",
      "13212 - (3321 x 2) = 6570 > 3321\n",
      "13212 - (3321 x 3) = 3249 < 3321 .समाप्त\n",
      "-----------------------------------\n"
     ]
    },
    {
     "data": {
      "text/plain": [
       "{'भागफल': 3, 'शेषफल': 3249}"
      ]
     },
     "execution_count": 4,
     "metadata": {},
     "output_type": "execute_result"
    }
   ],
   "source": [
    "विभाग(13212, 3321)"
   ]
  },
  {
   "cell_type": "code",
   "execution_count": null,
   "metadata": {},
   "outputs": [],
   "source": []
  }
 ],
 "metadata": {
  "kernelspec": {
   "display_name": "Python 3",
   "language": "python",
   "name": "python3"
  },
  "language_info": {
   "codemirror_mode": {
    "name": "ipython",
    "version": 3
   },
   "file_extension": ".py",
   "mimetype": "text/x-python",
   "name": "python",
   "nbconvert_exporter": "python",
   "pygments_lexer": "ipython3",
   "version": "3.7.4"
  }
 },
 "nbformat": 4,
 "nbformat_minor": 2
}
